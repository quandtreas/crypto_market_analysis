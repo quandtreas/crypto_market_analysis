{
 "cells": [
  {
   "cell_type": "code",
   "execution_count": 2,
   "metadata": {},
   "outputs": [],
   "source": [
    "import pandas as pd\n",
    "import requests\n",
    "import os\n",
    "import time"
   ]
  },
  {
   "cell_type": "code",
   "execution_count": 3,
   "metadata": {},
   "outputs": [],
   "source": [
    "# ALPHA_VANTAGE Environments\n",
    "AV_API_KEY = os.environ[\"ALPHA_VANTAGE_API_KEY\"]\n",
    "AV_BASE_URL = \"https://www.alphavantage.co/query?function={}&symbol={}&market={}&apikey={}\"\n",
    "AV_DIGITAL_CURRENCY_LIST = \"https://www.alphavantage.co/digital_currency_list/\"\n",
    "AV_FUNCTION = \"DIGITAL_CURRENCY_DAILY\""
   ]
  },
  {
   "cell_type": "code",
   "execution_count": 5,
   "metadata": {},
   "outputs": [],
   "source": [
    "# Retrieve list of digital currencies\n",
    "digital_currencies_pdf = pd.read_csv(AV_DIGITAL_CURRENCY_LIST)\n",
    "\n",
    "# Extract the codes from dataframe\n",
    "digital_currencies_lst = digital_currencies_pdf[\"currency code\"].tolist()"
   ]
  },
  {
   "cell_type": "code",
   "execution_count": 7,
   "metadata": {
    "tags": []
   },
   "outputs": [
    {
     "output_type": "stream",
     "name": "stdout",
     "text": "Number of digital currencies: 540\n"
    }
   ],
   "source": [
    "print(f\"Number of digital currencies: {len(digital_currencies_lst)}\")"
   ]
  },
  {
   "cell_type": "code",
   "execution_count": 110,
   "metadata": {},
   "outputs": [
    {
     "output_type": "stream",
     "name": "stdout",
     "text": "Retrieving data for: XZC\nWriting data for XZC to csv.\nData for XZC saved to csv.\nRetrieving data for: XZR\nCould not retrieve data for: XZR\nRetrieving data for: YEE\nCould not retrieve data for: YEE\nRetrieving data for: YOYOW\nCould not retrieve data for: YOYOW\nRetrieving data for: ZCC\nCould not retrieve data for: ZCC\nRetrieving data for: ZCL\nCould not retrieve data for: ZCL\nRetrieving data for: ZCO\nCould not retrieve data for: ZCO\nRetrieving data for: ZEC\nWriting data for ZEC to csv.\nData for ZEC saved to csv.\nRetrieving data for: ZEN\nWriting data for ZEN to csv.\nData for ZEN saved to csv.\nRetrieving data for: ZET\nCould not retrieve data for: ZET\nRetrieving data for: ZIL\nWriting data for ZIL to csv.\nData for ZIL saved to csv.\nRetrieving data for: ZLA\nCould not retrieve data for: ZLA\nRetrieving data for: ZRX\nWriting data for ZRX to csv.\nData for ZRX saved to csv.\n"
    }
   ],
   "source": [
    "for ticker_symbol in digital_currencies_lst:\n",
    "    request_url = AV_BASE_URL.format(AV_FUNCTION, ticker_symbol, \"USD\", AV_API_KEY)\n",
    "    print(f\"Retrieving data for: {ticker_symbol}\")\n",
    "    json_response = requests.get(request_url).json()\n",
    "    \n",
    "    if \"Error Message\" in json_response:\n",
    "        print(f\"Could not retrieve data for: {ticker_symbol}\")\n",
    "    elif \"Note\" in json_response:\n",
    "        print(ticker_symbol)\n",
    "        print(json_response[\"Note\"])\n",
    "    else:\n",
    "        print(f\"Writing data for {ticker_symbol} to csv.\")\n",
    "        pd.DataFrame.from_dict(json_response['Time Series (Digital Currency Daily)'], orient='index').to_csv(f\"data/{ticker_symbol}.csv\")\n",
    "        print(f\"Data for {ticker_symbol} saved to csv.\")\n",
    "\n",
    "    # Wait between API calls (limit 5 requests per minute)\n",
    "    time.sleep(14)\n",
    "        "
   ]
  }
 ],
 "metadata": {
  "language_info": {
   "codemirror_mode": {
    "name": "ipython",
    "version": 3
   },
   "file_extension": ".py",
   "mimetype": "text/x-python",
   "name": "python",
   "nbconvert_exporter": "python",
   "pygments_lexer": "ipython3",
   "version": "3.7.6-final"
  },
  "orig_nbformat": 2,
  "kernelspec": {
   "name": "python_defaultSpec_1598982106502",
   "display_name": "Python 3.7.6 64-bit ('crypto_trading': conda)"
  }
 },
 "nbformat": 4,
 "nbformat_minor": 2
}